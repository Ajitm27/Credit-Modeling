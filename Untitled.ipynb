{
 "cells": [
  {
   "cell_type": "markdown",
   "metadata": {},
   "source": [
    "# Credit Modelling\n",
    "\n",
    "**Modeling a borrower's [credit risk](https://en.wikipedia.org/wiki/Credit_risk)**\n",
    "\n",
    "### Problem Statement\n",
    "   - **Can we build a machine learning model that can accurately predict if a borrower will pay off their loan on time or not?**\n",
    "\n",
    "I'll be working with financial lending data from [Lending Club](https://www.lendingclub.com/). \n",
    "Lending Club is a marketplace for personal loans that matches borrowers who are seeking a loan with investors looking to lend money and make a return.\n",
    "\n",
    "Each borrower fills out a comprehensive application, providing their past financial history, the reason for the loan, and more. Lending Club evaluates each borrower's credit score using past historical data (and their own data science process!) and assign an interest rate to the borrower.\n",
    "\n",
    "A higher interest rate means that the borrower is riskier and more unlikely to pay back the loan while a lower interest rate means that the borrower has a good credit history is more likely to pay back the loan. The interest rates range from 5.32% all the way to 30.99% and each borrower is given a grade according to the interest rate they were assigned. If the borrower accepts the interest rate, then the loan is listed on the Lending Club marketplace.\n",
    "\n",
    "Investors are primarily interested in receiving a return on their investments. Approved loans are listed on the Lending Club website, where qualified investors can browse recently approved loans, the borrower's credit score, the purpose for the loan, and other information from the application. Once they're ready to back a loan, they select the amount of money they want to fund. Once a loan's requested amount is fully funded, the borrower receives the money they requested minus the [origination fee](https://help.lendingclub.com/hc/en-us/articles/214501207-What-is-the-origination-fee-) that Lending Club charges.\n",
    "\n",
    "\n",
    "The borrower then makes monthly payments back to Lending Club either over 36 months or over 60 months. Lending Club redistributes these payments to the investors.\n",
    "\n",
    "![](how-social-lending-works.jpg)\n",
    "\n",
    "However, and some borrowers **default** on the loan\n",
    "\n",
    "**In this project, I'll focus on the mindset of a conservative investor who only wants to invest in the loans that have a good chance of being paid off on time.**"
   ]
  },
  {
   "cell_type": "markdown",
   "metadata": {},
   "source": [
    "### Data Dictonary and getting familiar with features\n",
    "Before we start with our Model, We'll need to first understand the features in the dataset and then experiment with building machine learning models that reliably predict if a loan will be paid off or not"
   ]
  },
  {
   "cell_type": "markdown",
   "metadata": {},
   "source": [
    "Lending Club releases data for all of the approved and declined loan applications periodically on their [website](https://www.lendingclub.com/info/download-data.action)\n",
    "\n",
    "The **LoanStats** sheet describes the approved loans datasets and the **RejectStats** describes the rejected loans datasets. Since rejected applications don't appear on the Lending Club marketplace and aren't available for investment, we'll be focusing on data on approved loans only"
   ]
  },
  {
   "cell_type": "markdown",
   "metadata": {},
   "source": [
    "Here's a link to the data dictionary file hosted on [Google Drive](https://docs.google.com/spreadsheets/d/191B2yJ4H1ZPXq0_ByhUgWMFZOYem5jFz0Y3by_7YBY4/edit)"
   ]
  },
  {
   "cell_type": "markdown",
   "metadata": {},
   "source": [
    "### Importing and Reading the data\n",
    "\n",
    "We'll focus on approved loans data from 2007 to 2011, since a good number of the loans have already finished. And as for later years, many of the loans are current and still being paid off."
   ]
  },
  {
   "cell_type": "code",
   "execution_count": 5,
   "metadata": {},
   "outputs": [
    {
     "name": "stdout",
     "output_type": "stream",
     "text": [
      "id                                1077501\n",
      "member_id                      1.2966e+06\n",
      "loan_amnt                            5000\n",
      "funded_amnt                          5000\n",
      "funded_amnt_inv                      4975\n",
      "term                            36 months\n",
      "int_rate                           10.65%\n",
      "installment                        162.87\n",
      "grade                                   B\n",
      "sub_grade                              B2\n",
      "emp_title                             NaN\n",
      "emp_length                      10+ years\n",
      "home_ownership                       RENT\n",
      "annual_inc                          24000\n",
      "verification_status              Verified\n",
      "issue_d                          Dec-2011\n",
      "loan_status                    Fully Paid\n",
      "pymnt_plan                              n\n",
      "purpose                       credit_card\n",
      "title                            Computer\n",
      "zip_code                            860xx\n",
      "addr_state                             AZ\n",
      "dti                                 27.65\n",
      "delinq_2yrs                             0\n",
      "earliest_cr_line                 Jan-1985\n",
      "inq_last_6mths                          1\n",
      "open_acc                                3\n",
      "pub_rec                                 0\n",
      "revol_bal                           13648\n",
      "revol_util                          83.7%\n",
      "total_acc                               9\n",
      "initial_list_status                     f\n",
      "out_prncp                               0\n",
      "out_prncp_inv                           0\n",
      "total_pymnt                       5863.16\n",
      "total_pymnt_inv                   5833.84\n",
      "total_rec_prncp                      5000\n",
      "total_rec_int                      863.16\n",
      "total_rec_late_fee                      0\n",
      "recoveries                              0\n",
      "collection_recovery_fee                 0\n",
      "last_pymnt_d                     Jan-2015\n",
      "last_pymnt_amnt                    171.62\n",
      "last_credit_pull_d               Jun-2016\n",
      "collections_12_mths_ex_med              0\n",
      "policy_code                             1\n",
      "application_type               INDIVIDUAL\n",
      "acc_now_delinq                          0\n",
      "chargeoff_within_12_mths                0\n",
      "delinq_amnt                             0\n",
      "pub_rec_bankruptcies                    0\n",
      "tax_liens                               0\n",
      "Name: 0, dtype: object\n",
      "52\n"
     ]
    },
    {
     "name": "stderr",
     "output_type": "stream",
     "text": [
      "C:\\Users\\AMAN3001\\AppData\\Local\\Continuum\\anaconda3\\lib\\site-packages\\IPython\\core\\interactiveshell.py:3057: DtypeWarning: Columns (0) have mixed types. Specify dtype option on import or set low_memory=False.\n",
      "  interactivity=interactivity, compiler=compiler, result=result)\n"
     ]
    }
   ],
   "source": [
    "from warnings import simplefilter\n",
    "simplefilter(action='ignore', category=FutureWarning) #Ignore Warning messages\n",
    "\n",
    "import pandas as pd \n",
    "\n",
    "loans_2007 = pd.read_csv('loans_2007.csv')\n",
    "loans_2007.drop_duplicates()\n",
    "print(loans_2007.iloc[0])\n",
    "print(loans_2007.shape[1])"
   ]
  },
  {
   "cell_type": "markdown",
   "metadata": {},
   "source": [
    "For now lets pay attention to any features that:\n",
    "\n",
    " - leak information from the future (after the loan has already been funded)\n",
    " - don't affect a borrower's ability to pay back a loan (e.g. a randomly generated ID value by Lending Club)\n",
    " - formatted poorly and need to be cleaned up\n",
    " - require more data or a lot of processing to turn into a useful feature\n",
    " - contain redundant information\n",
    " \n",
    " I created a table that contains the name, data type, first row's value, and description from the data dictionary for the first 18 columns.\n",
    " \n",
    " \n",
    " | name                | dtype   | first value | description                                                                                                                       |\n",
    "|---------------------|---------|-------------|-----------------------------------------------------------------------------------------------------------------------------------|\n",
    "| id                  | object  | 1077501     | A unique LC assigned ID for the loan listing.                                                                                     |\n",
    "| member_id           | float64 | 1.2966e+06  | A unique LC assigned Id for the borrower member.                                                                                  |\n",
    "| loan_amnt           | float64 | 5000        | The listed amount of the loan applied for by the borrower.                                                                        |\n",
    "| funded_amnt         | float64 | 5000        | The total amount committed to that loan at that point in time.                                                                    |\n",
    "| funded_amnt_inv     | float64 | 49750       | The total amount committed by investors for that loan at that point in time.                                                      |\n",
    "| term                | object  | 36 months   | The number of payments on the loan. Values are in months and can be either 36 or 60.                                              |\n",
    "| int_rate            | object  | 10.65%      | Interest Rate on the loan                                                                                                         |\n",
    "| installment         | float64 | 162.87      | The monthly payment owed by the borrower if the loan originates.                                                                  |\n",
    "| grade               | object  | B           | LC assigned loan grade                                                                                                            |\n",
    "| sub_grade           | object  | B2          | LC assigned loan subgrade                                                                                                         |\n",
    "| emp_title           | object  | NaN         | The job title supplied by the Borrower when applying for the loan.                                                                |\n",
    "| emp_length          | object  | 10+ years   | Employment length in years. Possible values are between 0 and 10 where 0 means less than one year and 10 means ten or more years. |\n",
    "| home_ownership      | object  | RENT        | The home ownership status provided by the borrower during registration. Our values are: RENT, OWN, MORTGAGE, OTHER.               |\n",
    "| annual_inc          | float64 | 24000       | The self-reported annual income provided by the borrower during registration.                                                     |\n",
    "| verification_status | object  | Verified    | Indicates if income was verified by LC, not verified, or if the income source was verified                                        |\n",
    "| issue_d             | object  | Dec-2011    | The month which the loan was funded                                                                                               |\n",
    "| loan_status         | object  | Charged Off | Current status of the loan                                                                                                        |\n",
    "| pymnt_plan          | object  | n           | Indicates if a payment plan has been put in place for the loan                                                                    |\n",
    "| purpose             | object  | car         | A category provided by the borrower for the loan request.                                                                         |"
   ]
  },
  {
   "cell_type": "markdown",
   "metadata": {},
   "source": [
    "After analyzing each column, I conclude that the following features need to be removed based on the 5 criteria above:\n",
    "\n",
    " - id: randomly generated field by Lending Club for unique identification purposes only\n",
    " - member_id: also a randomly generated field by Lending Club for unique identification purposes only\n",
    " - funded_amnt: leaks data from the future (after the loan is already started to be funded)\n",
    " - funded_amnt_inv: also leaks data from the future (after the loan is already started to be funded)\n",
    " - grade: contains redundant information as the interest rate column (int_rate)\n",
    " - sub_grade: also contains redundant information as the interest rate column (int_rate)\n",
    " - emp_title: requires other data and a lot of processing to potentially be useful\n",
    " - issue_d: leaks data from the future (after the loan is already completed funded)"
   ]
  },
  {
   "cell_type": "markdown",
   "metadata": {},
   "source": [
    "### Droping unwanted columns"
   ]
  },
  {
   "cell_type": "code",
   "execution_count": 6,
   "metadata": {},
   "outputs": [],
   "source": [
    "loans_2007 = loans_2007.drop([\"id\", \"member_id\", \"funded_amnt\", \"funded_amnt_inv\", \"grade\", \"sub_grade\", \"emp_title\", \"issue_d\"], axis=1)"
   ]
  },
  {
   "cell_type": "markdown",
   "metadata": {},
   "source": [
    "**Lets look at next 18 columns**"
   ]
  },
  {
   "cell_type": "markdown",
   "metadata": {},
   "source": [
    "| name                | dtype   | first value | description                                                                                                                                                                                              |\n",
    "|---------------------|---------|-------------|----------------------------------------------------------------------------------------------------------------------------------------------------------------------------------------------------------|\n",
    "| title               | object  | Computer    | The loan title provided by the borrower                                                                                                                                                                  |\n",
    "| zip_code            | object  | 860xx       | The first 3 numbers of the zip code provided by the borrower in the loan application.                                                                                                                    |\n",
    "| addr_state          | object  | AZ          | The state provided by the borrower in the loan application                                                                                                                                               |\n",
    "| dti                 | float64 | 27.65       | A ratio calculated using the borrower’s total monthly debt payments on the total debt obligations, excluding mortgage and the requested LC loan, divided by the borrower’s self-reported monthly income. |\n",
    "| delinq_2yrs         | float64 | 0           | The number of 30+ days past-due incidences of delinquency in the borrower's credit file for the past 2 years                                                                                             |\n",
    "| earliest_cr_line    | object  | Jan-1985    | The month the borrower's earliest reported credit line was opened                                                                                                                                        |\n",
    "| inq_last_6mths      | float64 | 1           | The number of inquiries in past 6 months (excluding auto and mortgage inquiries)                                                                                                                         |\n",
    "| open_acc            | float64 | 3           | The number of open credit lines in the borrower's credit file.                                                                                                                                           |\n",
    "| pub_rec             | float64 | 0           | Number of derogatory public records                                                                                                                                                                      |\n",
    "| revol_bal           | float64 | 13648       | Total credit revolving balance                                                                                                                                                                           |\n",
    "| revol_util          | object  | 83.7%       | Revolving line utilization rate, or the amount of credit the borrower is using relative to all available revolving credit.                                                                               |\n",
    "| total_acc           | float64 | 9           | The total number of credit lines currently in the borrower's credit file                                                                                                                                 |\n",
    "| initial_list_status | object  | f           | The initial listing status of the loan. Possible values are – W, F                                                                                                                                       |\n",
    "| out_prncp           | float64 | 0           | Remaining outstanding principal for total amount funded                                                                                                                                                  |\n",
    "| out_prncp_inv       | float64 | 0           | Remaining outstanding principal for portion of total amount funded by investors                                                                                                                          |\n",
    "| total_pymnt         | float64 | 5863.16     | Payments received to date for total amount funded                                                                                                                                                        |\n",
    "| total_pymnt_inv     | float64 | 5833.84     | Payments received to date for portion of total amount funded by investors                                                                                                                                |\n",
    "| total_rec_prncp     | float64 | 5000        | Principal received to date                                                                                                                                                                               |"
   ]
  },
  {
   "cell_type": "markdown",
   "metadata": {},
   "source": [
    "Within this group of columns, we need to drop the following columns:\n",
    "\n",
    " - zip_code: redundant with the addr_state column since only the first 3 digits of the 5 digit zip code are visible (which only can be used to identify the state the borrower lives in)\n",
    " - out_prncp: leaks data from the future, (after the loan already started to be paid off)\n",
    " - out_prncp_inv: also leaks data from the future, (after the loan already started to be paid off)\n",
    " - total_pymnt: also leaks data from the future, (after the loan already started to be paid off)\n",
    " - total_pymnt_inv: also leaks data from the future, (after the loan already started to be paid off)\n",
    " - total_rec_prncp: also leaks data from the future, (after the loan already started to be paid off)\n",
    " \n",
    "**This information isn't available to an investor before the loan is fully funded and we don't want to include it in our model.**"
   ]
  },
  {
   "cell_type": "markdown",
   "metadata": {},
   "source": [
    "### Droping Unwanted columns -2"
   ]
  },
  {
   "cell_type": "code",
   "execution_count": 8,
   "metadata": {},
   "outputs": [],
   "source": [
    "loans_2007 = loans_2007.drop([\"zip_code\", \"out_prncp\", \"out_prncp_inv\", \"total_pymnt\", \"total_pymnt_inv\", \"total_rec_prncp\"], axis=1)"
   ]
  },
  {
   "cell_type": "markdown",
   "metadata": {},
   "source": [
    "**Lets look at last group of columns**"
   ]
  },
  {
   "cell_type": "markdown",
   "metadata": {},
   "source": [
    "| name                       | dtype   | first value | description                                                                                          |\n",
    "|----------------------------|---------|-------------|------------------------------------------------------------------------------------------------------|\n",
    "| total_rec_int              | float64 | 863.16      | Interest received to date                                                                            |\n",
    "| total_rec_late_fee         | float64 | 0           | Late fees received to date                                                                           |\n",
    "| recoveries                 | float64 | 0           | post charge off gross recovery                                                                       |\n",
    "| collection_recovery_fee    | float64 | 0           | post charge off collection fee                                                                       |\n",
    "| last_pymnt_d               | object  | Jan-2015    | Last month payment was received                                                                      |\n",
    "| last_pymnt_amnt            | float64 | 171.62      | Last total payment amount received                                                                   |\n",
    "| last_credit_pull_d         | object  | Jun-2016    | The most recent month LC pulled credit for this loan                                                 |\n",
    "| collections_12_mths_ex_med | float64 | 0           | Number of collections in 12 months excluding medical collections                                     |\n",
    "| policy_code                | float64 | 1           | publicly available policy_code=1 new products not publicly available policy_code=2                   |\n",
    "| application_type           | object  | INDIVIDUAL  | Indicates whether the loan is an individual application or a joint application with two co-borrowers |\n",
    "| acc_now_delinq             | float64 | 0           | The number of accounts on which the borrower is now delinquent.                                      |\n",
    "| chargeoff_within_12_mths   | float64 | 0           | Number of charge-offs within 12 months                                                               |\n",
    "| delinq_amnt                | float64 | 0           | The past-due amount owed for the accounts on which the borrower is now delinquent.                   |\n",
    "| pub_rec_bankruptcies       | float64 | 0           | Number of public record bankruptcies                                                                 |\n",
    "| tax_liens                  | float64 | 0           | Number of tax liens                                                                                  |"
   ]
  },
  {
   "cell_type": "markdown",
   "metadata": {},
   "source": [
    "In the last group of columns, we need to drop the following columns:\n",
    "\n",
    " - total_rec_int: leaks data from the future, (after the loan already started to be paid off),\n",
    " - total_rec_late_fee: also leaks data from the future, (after the loan already started to be paid off),\n",
    " - recoveries: also leaks data from the future, (after the loan already started to be paid off),\n",
    " - collection_recovery_fee: also leaks data from the future, (after the loan already started to be paid off),\n",
    " - last_pymnt_d: also leaks data from the future, (after the loan already started to be paid off),\n",
    " - last_pymnt_amnt: also leaks data from the future, (after the loan already started to be paid off).\n",
    " \n",
    "All of these columns leak data from the future, meaning that they're describing aspects of the loan after it's already been fully funded and started to be paid off by the borrower."
   ]
  },
  {
   "cell_type": "markdown",
   "metadata": {},
   "source": [
    "### Droping unwanted columns - 3"
   ]
  },
  {
   "cell_type": "code",
   "execution_count": 10,
   "metadata": {},
   "outputs": [
    {
     "name": "stdout",
     "output_type": "stream",
     "text": [
      "loan_amnt                            5000\n",
      "term                            36 months\n",
      "int_rate                           10.65%\n",
      "installment                        162.87\n",
      "emp_length                      10+ years\n",
      "home_ownership                       RENT\n",
      "annual_inc                          24000\n",
      "verification_status              Verified\n",
      "loan_status                    Fully Paid\n",
      "pymnt_plan                              n\n",
      "purpose                       credit_card\n",
      "title                            Computer\n",
      "addr_state                             AZ\n",
      "dti                                 27.65\n",
      "delinq_2yrs                             0\n",
      "earliest_cr_line                 Jan-1985\n",
      "inq_last_6mths                          1\n",
      "open_acc                                3\n",
      "pub_rec                                 0\n",
      "revol_bal                           13648\n",
      "revol_util                          83.7%\n",
      "total_acc                               9\n",
      "initial_list_status                     f\n",
      "last_credit_pull_d               Jun-2016\n",
      "collections_12_mths_ex_med              0\n",
      "policy_code                             1\n",
      "application_type               INDIVIDUAL\n",
      "acc_now_delinq                          0\n",
      "chargeoff_within_12_mths                0\n",
      "delinq_amnt                             0\n",
      "pub_rec_bankruptcies                    0\n",
      "tax_liens                               0\n",
      "Name: 0, dtype: object\n",
      "32\n"
     ]
    }
   ],
   "source": [
    "loans_2007 = loans_2007.drop([\"total_rec_int\", \"total_rec_late_fee\", \"recoveries\", \"collection_recovery_fee\", \"last_pymnt_d\", \"last_pymnt_amnt\"], axis=1)\n",
    "print(loans_2007.iloc[0])\n",
    "print(loans_2007.shape[1])"
   ]
  },
  {
   "cell_type": "markdown",
   "metadata": {},
   "source": [
    "### Deciding Target Column for our Model\n",
    "\n",
    "We should use the **loan_status** column, since it's the only column that directly describes if a loan was paid off on time, had delayed payments, or was defaulted on the borrower"
   ]
  },
  {
   "cell_type": "code",
   "execution_count": 11,
   "metadata": {},
   "outputs": [
    {
     "name": "stdout",
     "output_type": "stream",
     "text": [
      "Fully Paid                                             33136\n",
      "Charged Off                                             5634\n",
      "Does not meet the credit policy. Status:Fully Paid      1988\n",
      "Current                                                  961\n",
      "Does not meet the credit policy. Status:Charged Off      761\n",
      "Late (31-120 days)                                        24\n",
      "In Grace Period                                           20\n",
      "Late (16-30 days)                                          8\n",
      "Default                                                    3\n",
      "Name: loan_status, dtype: int64\n"
     ]
    }
   ],
   "source": [
    "print(loans_2007['loan_status'].value_counts())"
   ]
  },
  {
   "cell_type": "markdown",
   "metadata": {},
   "source": [
    "**Explanation for each value in loan_status column as well as their counts**"
   ]
  },
  {
   "cell_type": "markdown",
   "metadata": {},
   "source": [
    "| Loan Status                                         | Count | Meaning                                                                                                                                           |\n",
    "|-----------------------------------------------------|-------|---------------------------------------------------------------------------------------------------------------------------------------------------|\n",
    "| Fully Paid                                          | 33136 | Loan has been fully paid off.                                                                                                                     |\n",
    "| Charged Off                                         | 5634  | Loan for which there is no longer a reasonable expectation of further payments.                                                                   |\n",
    "| Does not meet the credit policy. Status:Fully Paid  | 1988  | While the loan was paid off, the loan application today would no longer meet the credit policy and wouldn't be approved on to the marketplace.    |\n",
    "| Does not meet the credit policy. Status:Charged Off | 761   | While the loan was charged off, the loan application today would no longer meet the credit policy and wouldn't be approved on to the marketplace. |\n",
    "| In Grace Period                                     | 20    | The loan is past due but still in the grace period of 15 days.                                                                                    |\n",
    "| Late (16-30 days)                                   | 8     | Loan hasn't been paid in 16 to 30 days (late on the current payment).                                                                             |\n",
    "| Late (31-120 days)                                  | 24    | Loan hasn't been paid in 31 to 120 days (late on the current payment).                                                                            |\n",
    "| Current                                             | 961   | Loan is up to date on current payments.                                                                                                           |\n",
    "| Default                                             | 3     | Loan is defaulted on and no payment has been made for more than 121 days.                                                                         |"
   ]
  },
  {
   "cell_type": "markdown",
   "metadata": {},
   "source": [
    "From the investor's perspective, we're interested in trying to predict which loans will be paid off on time and which ones won't be. Only the **Fully Paid** and **Charged Off** values describe the final outcome of the loan.\n",
    "\n",
    "Now we can treat the problem as a **binary classification** one. Let's remove all the loans that don't contain either **Fully Paid** and **Charged Off** as the loan's status and then transform the Fully Paid values to **1** for the positive case and the Charged Off values to **0** for the negative case"
   ]
  },
  {
   "cell_type": "code",
   "execution_count": 13,
   "metadata": {},
   "outputs": [],
   "source": [
    "loans_2007 = loans_2007[(loans_2007['loan_status'] == 'Fully Paid') | (loans_2007['loan_status'] == 'Charged Off')]\n",
    "\n",
    "status_replace = {\n",
    "    'loan_status': {\n",
    "        'Fully Paid': 1,\n",
    "        'Charged Off': 0,\n",
    "    }\n",
    "}\n",
    "\n",
    "loans_2007 = loans_2007.replace(status_replace)"
   ]
  },
  {
   "cell_type": "markdown",
   "metadata": {},
   "source": [
    "### Removing columns with only one unique value\n",
    "These columns won't be useful for the model since they don't add any information to each loan application"
   ]
  },
  {
   "cell_type": "code",
   "execution_count": 17,
   "metadata": {},
   "outputs": [
    {
     "name": "stdout",
     "output_type": "stream",
     "text": [
      "['pymnt_plan', 'initial_list_status', 'collections_12_mths_ex_med', 'policy_code', 'application_type', 'acc_now_delinq', 'chargeoff_within_12_mths', 'delinq_amnt', 'tax_liens']\n"
     ]
    }
   ],
   "source": [
    "orig_columns = loans_2007.columns\n",
    "drop_columns = []\n",
    "for col in orig_columns:\n",
    "    col_series = loans_2007[col].dropna().unique()\n",
    "    if len(col_series) == 1:\n",
    "        drop_columns.append(col)\n",
    "loans_2007 = loans_2007.drop(drop_columns, axis=1)\n",
    "print(drop_columns)"
   ]
  },
  {
   "cell_type": "markdown",
   "metadata": {},
   "source": [
    "we were able to remove 9 more columns since they only contained 1 unique value"
   ]
  },
  {
   "cell_type": "code",
   "execution_count": null,
   "metadata": {},
   "outputs": [],
   "source": []
  }
 ],
 "metadata": {
  "kernelspec": {
   "display_name": "Python 3",
   "language": "python",
   "name": "python3"
  },
  "language_info": {
   "codemirror_mode": {
    "name": "ipython",
    "version": 3
   },
   "file_extension": ".py",
   "mimetype": "text/x-python",
   "name": "python",
   "nbconvert_exporter": "python",
   "pygments_lexer": "ipython3",
   "version": "3.7.3"
  }
 },
 "nbformat": 4,
 "nbformat_minor": 2
}

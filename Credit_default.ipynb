{
 "cells": [
  {
   "cell_type": "markdown",
   "metadata": {},
   "source": [
    "# Credit Modelling\n",
    "\n",
    "**Modeling a borrower's [credit risk](https://en.wikipedia.org/wiki/Credit_risk)**\n",
    "\n",
    "### Problem Statement\n",
    "   - **Can we build a machine learning model that can accurately predict if a borrower will pay off their loan on time or not?**\n",
    "\n",
    "I'll be working with financial lending data from [Lending Club](https://www.lendingclub.com/). \n",
    "Lending Club is a marketplace for personal loans that matches borrowers who are seeking a loan with investors looking to lend money and make a return.\n",
    "\n",
    "Each borrower fills out a comprehensive application, providing their past financial history, the reason for the loan, and more. Lending Club evaluates each borrower's credit score using past historical data (and their own data science process!) and assign an interest rate to the borrower.\n",
    "\n",
    "A higher interest rate means that the borrower is riskier and more unlikely to pay back the loan while a lower interest rate means that the borrower has a good credit history is more likely to pay back the loan. The interest rates range from 5.32% all the way to 30.99% and each borrower is given a grade according to the interest rate they were assigned. If the borrower accepts the interest rate, then the loan is listed on the Lending Club marketplace.\n",
    "\n",
    "Investors are primarily interested in receiving a return on their investments. Approved loans are listed on the Lending Club website, where qualified investors can browse recently approved loans, the borrower's credit score, the purpose for the loan, and other information from the application. Once they're ready to back a loan, they select the amount of money they want to fund. Once a loan's requested amount is fully funded, the borrower receives the money they requested minus the [origination fee](https://help.lendingclub.com/hc/en-us/articles/214501207-What-is-the-origination-fee-) that Lending Club charges.\n",
    "\n",
    "\n",
    "The borrower then makes monthly payments back to Lending Club either over 36 months or over 60 months. Lending Club redistributes these payments to the investors.\n",
    "\n",
    "![](how-social-lending-works.jpg)\n",
    "\n",
    "However, and some borrowers **default** on the loan\n",
    "\n",
    "**In this project, I'll focus on the mindset of a conservative investor who only wants to invest in the loans that have a good chance of being paid off on time.**"
   ]
  },
  {
   "cell_type": "markdown",
   "metadata": {},
   "source": [
    "### Data Dictonary and getting familiar with features\n",
    "Before we start with our Model, We'll need to first understand the features in the dataset and then experiment with building machine learning models that reliably predict if a loan will be paid off or not"
   ]
  },
  {
   "cell_type": "markdown",
   "metadata": {},
   "source": [
    "Lending Club releases data for all of the approved and declined loan applications periodically on their [website](https://www.lendingclub.com/info/download-data.action)\n",
    "\n",
    "The **LoanStats** sheet describes the approved loans datasets and the **RejectStats** describes the rejected loans datasets. Since rejected applications don't appear on the Lending Club marketplace and aren't available for investment, we'll be focusing on data on approved loans only"
   ]
  },
  {
   "cell_type": "markdown",
   "metadata": {},
   "source": [
    "Here's a link to the data dictionary file hosted on [Google Drive](https://docs.google.com/spreadsheets/d/191B2yJ4H1ZPXq0_ByhUgWMFZOYem5jFz0Y3by_7YBY4/edit)"
   ]
  },
  {
   "cell_type": "markdown",
   "metadata": {},
   "source": [
    "### Importing and Reading the data\n",
    "\n",
    "We'll focus on approved loans data from 2007 to 2011, since a good number of the loans have already finished. And as for later years, many of the loans are current and still being paid off."
   ]
  },
  {
   "cell_type": "code",
   "execution_count": 2,
   "metadata": {},
   "outputs": [
    {
     "name": "stderr",
     "output_type": "stream",
     "text": [
      "C:\\Users\\AMAN3001\\AppData\\Local\\Continuum\\anaconda3\\lib\\site-packages\\IPython\\core\\interactiveshell.py:3057: DtypeWarning: Columns (0) have mixed types. Specify dtype option on import or set low_memory=False.\n",
      "  interactivity=interactivity, compiler=compiler, result=result)\n"
     ]
    },
    {
     "name": "stdout",
     "output_type": "stream",
     "text": [
      "id                                1077501\n",
      "member_id                      1.2966e+06\n",
      "loan_amnt                            5000\n",
      "funded_amnt                          5000\n",
      "funded_amnt_inv                      4975\n",
      "term                            36 months\n",
      "int_rate                           10.65%\n",
      "installment                        162.87\n",
      "grade                                   B\n",
      "sub_grade                              B2\n",
      "emp_title                             NaN\n",
      "emp_length                      10+ years\n",
      "home_ownership                       RENT\n",
      "annual_inc                          24000\n",
      "verification_status              Verified\n",
      "issue_d                          Dec-2011\n",
      "loan_status                    Fully Paid\n",
      "pymnt_plan                              n\n",
      "purpose                       credit_card\n",
      "title                            Computer\n",
      "zip_code                            860xx\n",
      "addr_state                             AZ\n",
      "dti                                 27.65\n",
      "delinq_2yrs                             0\n",
      "earliest_cr_line                 Jan-1985\n",
      "inq_last_6mths                          1\n",
      "open_acc                                3\n",
      "pub_rec                                 0\n",
      "revol_bal                           13648\n",
      "revol_util                          83.7%\n",
      "total_acc                               9\n",
      "initial_list_status                     f\n",
      "out_prncp                               0\n",
      "out_prncp_inv                           0\n",
      "total_pymnt                       5863.16\n",
      "total_pymnt_inv                   5833.84\n",
      "total_rec_prncp                      5000\n",
      "total_rec_int                      863.16\n",
      "total_rec_late_fee                      0\n",
      "recoveries                              0\n",
      "collection_recovery_fee                 0\n",
      "last_pymnt_d                     Jan-2015\n",
      "last_pymnt_amnt                    171.62\n",
      "last_credit_pull_d               Jun-2016\n",
      "collections_12_mths_ex_med              0\n",
      "policy_code                             1\n",
      "application_type               INDIVIDUAL\n",
      "acc_now_delinq                          0\n",
      "chargeoff_within_12_mths                0\n",
      "delinq_amnt                             0\n",
      "pub_rec_bankruptcies                    0\n",
      "tax_liens                               0\n",
      "Name: 0, dtype: object\n",
      "52\n"
     ]
    }
   ],
   "source": [
    "from warnings import simplefilter\n",
    "simplefilter(action='ignore', category=FutureWarning) #Ignore Warning messages\n",
    "\n",
    "import pandas as pd \n",
    "\n",
    "loans_2007 = pd.read_csv('loans_2007.csv')\n",
    "loans_2007.drop_duplicates()\n",
    "print(loans_2007.iloc[0])\n",
    "print(loans_2007.shape[1])"
   ]
  },
  {
   "cell_type": "markdown",
   "metadata": {},
   "source": [
    "For now lets pay attention to any features that:\n",
    "\n",
    " - leak information from the future (after the loan has already been funded)\n",
    " - don't affect a borrower's ability to pay back a loan (e.g. a randomly generated ID value by Lending Club)\n",
    " - formatted poorly and need to be cleaned up\n",
    " - require more data or a lot of processing to turn into a useful feature\n",
    " - contain redundant information\n",
    " \n",
    " I created a table that contains the name, data type, first row's value, and description from the data dictionary for the first 18 columns.\n",
    " \n",
    " \n",
    " | name                | dtype   | first value | description                                                                                                                       |\n",
    "|---------------------|---------|-------------|-----------------------------------------------------------------------------------------------------------------------------------|\n",
    "| id                  | object  | 1077501     | A unique LC assigned ID for the loan listing.                                                                                     |\n",
    "| member_id           | float64 | 1.2966e+06  | A unique LC assigned Id for the borrower member.                                                                                  |\n",
    "| loan_amnt           | float64 | 5000        | The listed amount of the loan applied for by the borrower.                                                                        |\n",
    "| funded_amnt         | float64 | 5000        | The total amount committed to that loan at that point in time.                                                                    |\n",
    "| funded_amnt_inv     | float64 | 49750       | The total amount committed by investors for that loan at that point in time.                                                      |\n",
    "| term                | object  | 36 months   | The number of payments on the loan. Values are in months and can be either 36 or 60.                                              |\n",
    "| int_rate            | object  | 10.65%      | Interest Rate on the loan                                                                                                         |\n",
    "| installment         | float64 | 162.87      | The monthly payment owed by the borrower if the loan originates.                                                                  |\n",
    "| grade               | object  | B           | LC assigned loan grade                                                                                                            |\n",
    "| sub_grade           | object  | B2          | LC assigned loan subgrade                                                                                                         |\n",
    "| emp_title           | object  | NaN         | The job title supplied by the Borrower when applying for the loan.                                                                |\n",
    "| emp_length          | object  | 10+ years   | Employment length in years. Possible values are between 0 and 10 where 0 means less than one year and 10 means ten or more years. |\n",
    "| home_ownership      | object  | RENT        | The home ownership status provided by the borrower during registration. Our values are: RENT, OWN, MORTGAGE, OTHER.               |\n",
    "| annual_inc          | float64 | 24000       | The self-reported annual income provided by the borrower during registration.                                                     |\n",
    "| verification_status | object  | Verified    | Indicates if income was verified by LC, not verified, or if the income source was verified                                        |\n",
    "| issue_d             | object  | Dec-2011    | The month which the loan was funded                                                                                               |\n",
    "| loan_status         | object  | Charged Off | Current status of the loan                                                                                                        |\n",
    "| pymnt_plan          | object  | n           | Indicates if a payment plan has been put in place for the loan                                                                    |\n",
    "| purpose             | object  | car         | A category provided by the borrower for the loan request.                                                                         |"
   ]
  },
  {
   "cell_type": "markdown",
   "metadata": {},
   "source": [
    "After analyzing each column, I conclude that the following features need to be removed based on the 5 criteria above:\n",
    "\n",
    " - id: randomly generated field by Lending Club for unique identification purposes only\n",
    " - member_id: also a randomly generated field by Lending Club for unique identification purposes only\n",
    " - funded_amnt: leaks data from the future (after the loan is already started to be funded)\n",
    " - funded_amnt_inv: also leaks data from the future (after the loan is already started to be funded)\n",
    " - grade: contains redundant information as the interest rate column (int_rate)\n",
    " - sub_grade: also contains redundant information as the interest rate column (int_rate)\n",
    " - emp_title: requires other data and a lot of processing to potentially be useful\n",
    " - issue_d: leaks data from the future (after the loan is already completed funded)"
   ]
  },
  {
   "cell_type": "markdown",
   "metadata": {},
   "source": [
    "### Droping unwanted columns 1"
   ]
  },
  {
   "cell_type": "code",
   "execution_count": 3,
   "metadata": {},
   "outputs": [],
   "source": [
    "loans_2007 = loans_2007.drop([\"id\", \"member_id\", \"funded_amnt\", \"funded_amnt_inv\", \"grade\", \"sub_grade\", \"emp_title\", \"issue_d\"], axis=1)"
   ]
  },
  {
   "cell_type": "markdown",
   "metadata": {},
   "source": [
    "**Lets look at next 18 columns**"
   ]
  },
  {
   "cell_type": "markdown",
   "metadata": {},
   "source": [
    "| name                | dtype   | first value | description                                                                                                                                                                                              |\n",
    "|---------------------|---------|-------------|----------------------------------------------------------------------------------------------------------------------------------------------------------------------------------------------------------|\n",
    "| title               | object  | Computer    | The loan title provided by the borrower                                                                                                                                                                  |\n",
    "| zip_code            | object  | 860xx       | The first 3 numbers of the zip code provided by the borrower in the loan application.                                                                                                                    |\n",
    "| addr_state          | object  | AZ          | The state provided by the borrower in the loan application                                                                                                                                               |\n",
    "| dti                 | float64 | 27.65       | A ratio calculated using the borrower’s total monthly debt payments on the total debt obligations, excluding mortgage and the requested LC loan, divided by the borrower’s self-reported monthly income. |\n",
    "| delinq_2yrs         | float64 | 0           | The number of 30+ days past-due incidences of delinquency in the borrower's credit file for the past 2 years                                                                                             |\n",
    "| earliest_cr_line    | object  | Jan-1985    | The month the borrower's earliest reported credit line was opened                                                                                                                                        |\n",
    "| inq_last_6mths      | float64 | 1           | The number of inquiries in past 6 months (excluding auto and mortgage inquiries)                                                                                                                         |\n",
    "| open_acc            | float64 | 3           | The number of open credit lines in the borrower's credit file.                                                                                                                                           |\n",
    "| pub_rec             | float64 | 0           | Number of derogatory public records                                                                                                                                                                      |\n",
    "| revol_bal           | float64 | 13648       | Total credit revolving balance                                                                                                                                                                           |\n",
    "| revol_util          | object  | 83.7%       | Revolving line utilization rate, or the amount of credit the borrower is using relative to all available revolving credit.                                                                               |\n",
    "| total_acc           | float64 | 9           | The total number of credit lines currently in the borrower's credit file                                                                                                                                 |\n",
    "| initial_list_status | object  | f           | The initial listing status of the loan. Possible values are – W, F                                                                                                                                       |\n",
    "| out_prncp           | float64 | 0           | Remaining outstanding principal for total amount funded                                                                                                                                                  |\n",
    "| out_prncp_inv       | float64 | 0           | Remaining outstanding principal for portion of total amount funded by investors                                                                                                                          |\n",
    "| total_pymnt         | float64 | 5863.16     | Payments received to date for total amount funded                                                                                                                                                        |\n",
    "| total_pymnt_inv     | float64 | 5833.84     | Payments received to date for portion of total amount funded by investors                                                                                                                                |\n",
    "| total_rec_prncp     | float64 | 5000        | Principal received to date                                                                                                                                                                               |"
   ]
  },
  {
   "cell_type": "markdown",
   "metadata": {},
   "source": [
    "Within this group of columns, we need to drop the following columns:\n",
    "\n",
    " - zip_code: redundant with the addr_state column since only the first 3 digits of the 5 digit zip code are visible (which only can be used to identify the state the borrower lives in)\n",
    " - out_prncp: leaks data from the future, (after the loan already started to be paid off)\n",
    " - out_prncp_inv: also leaks data from the future, (after the loan already started to be paid off)\n",
    " - total_pymnt: also leaks data from the future, (after the loan already started to be paid off)\n",
    " - total_pymnt_inv: also leaks data from the future, (after the loan already started to be paid off)\n",
    " - total_rec_prncp: also leaks data from the future, (after the loan already started to be paid off)\n",
    " \n",
    "**This information isn't available to an investor before the loan is fully funded and we don't want to include it in our model.**"
   ]
  },
  {
   "cell_type": "markdown",
   "metadata": {},
   "source": [
    "### Droping Unwanted columns -2"
   ]
  },
  {
   "cell_type": "code",
   "execution_count": 4,
   "metadata": {},
   "outputs": [],
   "source": [
    "loans_2007 = loans_2007.drop([\"zip_code\", \"out_prncp\", \"out_prncp_inv\", \"total_pymnt\", \"total_pymnt_inv\", \"total_rec_prncp\"], axis=1)"
   ]
  },
  {
   "cell_type": "markdown",
   "metadata": {},
   "source": [
    "**Lets look at last group of columns**"
   ]
  },
  {
   "cell_type": "markdown",
   "metadata": {},
   "source": [
    "| name                       | dtype   | first value | description                                                                                          |\n",
    "|----------------------------|---------|-------------|------------------------------------------------------------------------------------------------------|\n",
    "| total_rec_int              | float64 | 863.16      | Interest received to date                                                                            |\n",
    "| total_rec_late_fee         | float64 | 0           | Late fees received to date                                                                           |\n",
    "| recoveries                 | float64 | 0           | post charge off gross recovery                                                                       |\n",
    "| collection_recovery_fee    | float64 | 0           | post charge off collection fee                                                                       |\n",
    "| last_pymnt_d               | object  | Jan-2015    | Last month payment was received                                                                      |\n",
    "| last_pymnt_amnt            | float64 | 171.62      | Last total payment amount received                                                                   |\n",
    "| last_credit_pull_d         | object  | Jun-2016    | The most recent month LC pulled credit for this loan                                                 |\n",
    "| collections_12_mths_ex_med | float64 | 0           | Number of collections in 12 months excluding medical collections                                     |\n",
    "| policy_code                | float64 | 1           | publicly available policy_code=1 new products not publicly available policy_code=2                   |\n",
    "| application_type           | object  | INDIVIDUAL  | Indicates whether the loan is an individual application or a joint application with two co-borrowers |\n",
    "| acc_now_delinq             | float64 | 0           | The number of accounts on which the borrower is now delinquent.                                      |\n",
    "| chargeoff_within_12_mths   | float64 | 0           | Number of charge-offs within 12 months                                                               |\n",
    "| delinq_amnt                | float64 | 0           | The past-due amount owed for the accounts on which the borrower is now delinquent.                   |\n",
    "| pub_rec_bankruptcies       | float64 | 0           | Number of public record bankruptcies                                                                 |\n",
    "| tax_liens                  | float64 | 0           | Number of tax liens                                                                                  |"
   ]
  },
  {
   "cell_type": "markdown",
   "metadata": {},
   "source": [
    "In the last group of columns, we need to drop the following columns:\n",
    "\n",
    " - total_rec_int: leaks data from the future, (after the loan already started to be paid off),\n",
    " - total_rec_late_fee: also leaks data from the future, (after the loan already started to be paid off),\n",
    " - recoveries: also leaks data from the future, (after the loan already started to be paid off),\n",
    " - collection_recovery_fee: also leaks data from the future, (after the loan already started to be paid off),\n",
    " - last_pymnt_d: also leaks data from the future, (after the loan already started to be paid off),\n",
    " - last_pymnt_amnt: also leaks data from the future, (after the loan already started to be paid off).\n",
    " \n",
    "All of these columns leak data from the future, meaning that they're describing aspects of the loan after it's already been fully funded and started to be paid off by the borrower."
   ]
  },
  {
   "cell_type": "markdown",
   "metadata": {},
   "source": [
    "### Droping unwanted columns - 3"
   ]
  },
  {
   "cell_type": "code",
   "execution_count": 5,
   "metadata": {},
   "outputs": [
    {
     "name": "stdout",
     "output_type": "stream",
     "text": [
      "loan_amnt                            5000\n",
      "term                            36 months\n",
      "int_rate                           10.65%\n",
      "installment                        162.87\n",
      "emp_length                      10+ years\n",
      "home_ownership                       RENT\n",
      "annual_inc                          24000\n",
      "verification_status              Verified\n",
      "loan_status                    Fully Paid\n",
      "pymnt_plan                              n\n",
      "purpose                       credit_card\n",
      "title                            Computer\n",
      "addr_state                             AZ\n",
      "dti                                 27.65\n",
      "delinq_2yrs                             0\n",
      "earliest_cr_line                 Jan-1985\n",
      "inq_last_6mths                          1\n",
      "open_acc                                3\n",
      "pub_rec                                 0\n",
      "revol_bal                           13648\n",
      "revol_util                          83.7%\n",
      "total_acc                               9\n",
      "initial_list_status                     f\n",
      "last_credit_pull_d               Jun-2016\n",
      "collections_12_mths_ex_med              0\n",
      "policy_code                             1\n",
      "application_type               INDIVIDUAL\n",
      "acc_now_delinq                          0\n",
      "chargeoff_within_12_mths                0\n",
      "delinq_amnt                             0\n",
      "pub_rec_bankruptcies                    0\n",
      "tax_liens                               0\n",
      "Name: 0, dtype: object\n",
      "32\n"
     ]
    }
   ],
   "source": [
    "loans_2007 = loans_2007.drop([\"total_rec_int\", \"total_rec_late_fee\", \"recoveries\", \"collection_recovery_fee\", \"last_pymnt_d\", \"last_pymnt_amnt\"], axis=1)\n",
    "print(loans_2007.iloc[0])\n",
    "print(loans_2007.shape[1])"
   ]
  },
  {
   "cell_type": "markdown",
   "metadata": {},
   "source": [
    "### Deciding Target Column for our Model\n",
    "\n",
    "We should use the **loan_status** column, since it's the only column that directly describes if a loan was paid off on time, had delayed payments, or was defaulted on the borrower"
   ]
  },
  {
   "cell_type": "code",
   "execution_count": 6,
   "metadata": {},
   "outputs": [
    {
     "name": "stdout",
     "output_type": "stream",
     "text": [
      "Fully Paid                                             33136\n",
      "Charged Off                                             5634\n",
      "Does not meet the credit policy. Status:Fully Paid      1988\n",
      "Current                                                  961\n",
      "Does not meet the credit policy. Status:Charged Off      761\n",
      "Late (31-120 days)                                        24\n",
      "In Grace Period                                           20\n",
      "Late (16-30 days)                                          8\n",
      "Default                                                    3\n",
      "Name: loan_status, dtype: int64\n"
     ]
    }
   ],
   "source": [
    "print(loans_2007['loan_status'].value_counts())"
   ]
  },
  {
   "cell_type": "markdown",
   "metadata": {},
   "source": [
    "**Explanation for each value in loan_status column as well as their counts**"
   ]
  },
  {
   "cell_type": "markdown",
   "metadata": {},
   "source": [
    "| Loan Status                                         | Count | Meaning                                                                                                                                           |\n",
    "|-----------------------------------------------------|-------|---------------------------------------------------------------------------------------------------------------------------------------------------|\n",
    "| Fully Paid                                          | 33136 | Loan has been fully paid off.                                                                                                                     |\n",
    "| Charged Off                                         | 5634  | Loan for which there is no longer a reasonable expectation of further payments.                                                                   |\n",
    "| Does not meet the credit policy. Status:Fully Paid  | 1988  | While the loan was paid off, the loan application today would no longer meet the credit policy and wouldn't be approved on to the marketplace.    |\n",
    "| Does not meet the credit policy. Status:Charged Off | 761   | While the loan was charged off, the loan application today would no longer meet the credit policy and wouldn't be approved on to the marketplace. |\n",
    "| In Grace Period                                     | 20    | The loan is past due but still in the grace period of 15 days.                                                                                    |\n",
    "| Late (16-30 days)                                   | 8     | Loan hasn't been paid in 16 to 30 days (late on the current payment).                                                                             |\n",
    "| Late (31-120 days)                                  | 24    | Loan hasn't been paid in 31 to 120 days (late on the current payment).                                                                            |\n",
    "| Current                                             | 961   | Loan is up to date on current payments.                                                                                                           |\n",
    "| Default                                             | 3     | Loan is defaulted on and no payment has been made for more than 121 days.                                                                         |"
   ]
  },
  {
   "cell_type": "markdown",
   "metadata": {},
   "source": [
    "From the investor's perspective, we're interested in trying to predict which loans will be paid off on time and which ones won't be. Only the **Fully Paid** and **Charged Off** values describe the final outcome of the loan.\n",
    "\n",
    "Now we can treat the problem as a **binary classification** one. Let's remove all the loans that don't contain either **Fully Paid** and **Charged Off** as the loan's status and then transform the Fully Paid values to **1** for the positive case and the Charged Off values to **0** for the negative case"
   ]
  },
  {
   "cell_type": "code",
   "execution_count": 7,
   "metadata": {},
   "outputs": [],
   "source": [
    "loans_2007 = loans_2007[(loans_2007['loan_status'] == 'Fully Paid') | (loans_2007['loan_status'] == 'Charged Off')]\n",
    "\n",
    "status_replace = {\n",
    "    'loan_status': {\n",
    "        'Fully Paid': 1,\n",
    "        'Charged Off': 0,\n",
    "    }\n",
    "}\n",
    "\n",
    "loans_2007 = loans_2007.replace(status_replace)"
   ]
  },
  {
   "cell_type": "markdown",
   "metadata": {},
   "source": [
    "## Dealing with Class Imbalance\n",
    "While there are 33,136 loans that have been fully paid off, there are only 5,634 that were charged off.\n",
    "\n",
    " - This class imbalance will lead our model to be bias towards predicting the class with more observations in the training set and will rarely predict the class with less observations\n",
    "### Removing columns with only one unique value\n",
    "These columns won't be useful for the model since they don't add any information to each loan application"
   ]
  },
  {
   "cell_type": "code",
   "execution_count": 8,
   "metadata": {},
   "outputs": [
    {
     "name": "stdout",
     "output_type": "stream",
     "text": [
      "['pymnt_plan', 'initial_list_status', 'collections_12_mths_ex_med', 'policy_code', 'application_type', 'acc_now_delinq', 'chargeoff_within_12_mths', 'delinq_amnt', 'tax_liens']\n"
     ]
    }
   ],
   "source": [
    "orig_columns = loans_2007.columns\n",
    "drop_columns = []\n",
    "\n",
    "#We drop all missing values and find unique values for each columns\n",
    "\n",
    "for col in orig_columns:\n",
    "    col_series = loans_2007[col].dropna().unique()\n",
    "    \n",
    "    #If unique value in column is 1 we Drop that column\n",
    "    if len(col_series) == 1:\n",
    "        drop_columns.append(col)\n",
    "\n",
    "        \n",
    "loans_2007 = loans_2007.drop(drop_columns, axis=1)\n",
    "print(drop_columns)"
   ]
  },
  {
   "cell_type": "markdown",
   "metadata": {},
   "source": [
    "we were able to remove 9 more columns since they only contained 1 unique value"
   ]
  },
  {
   "cell_type": "markdown",
   "metadata": {},
   "source": [
    "### Dealing with Missing Values"
   ]
  },
  {
   "cell_type": "code",
   "execution_count": 9,
   "metadata": {},
   "outputs": [
    {
     "name": "stdout",
     "output_type": "stream",
     "text": [
      "emp_length              1036\n",
      "title                     11\n",
      "revol_util                50\n",
      "last_credit_pull_d         2\n",
      "pub_rec_bankruptcies     697\n",
      "dtype: int64\n"
     ]
    }
   ],
   "source": [
    "# Finding Columns with null values \n",
    "null_counts = loans_2007.isnull().sum()\n",
    "print(null_counts[null_counts>0])"
   ]
  },
  {
   "cell_type": "markdown",
   "metadata": {},
   "source": [
    "Let's inspect the values of the column **pub_rec_bankruptcies**"
   ]
  },
  {
   "cell_type": "code",
   "execution_count": 10,
   "metadata": {},
   "outputs": [
    {
     "name": "stdout",
     "output_type": "stream",
     "text": [
      "0.0    0.939438\n",
      "1.0    0.042456\n",
      "NaN    0.017978\n",
      "2.0    0.000129\n",
      "Name: pub_rec_bankruptcies, dtype: float64\n"
     ]
    }
   ],
   "source": [
    "print(loans_2007.pub_rec_bankruptcies.value_counts(normalize=True, dropna=False))"
   ]
  },
  {
   "cell_type": "markdown",
   "metadata": {},
   "source": [
    "This column offers very little variability, nearly 94% of values are in the same category. It probably won't have much predictive value. We'll **Drop** the column\n",
    "\n",
    "For rest of the Columns:\n",
    " - **Title, revol_util, last_credit_pull_d**: As they have less than 50 missing values we will drop the missing value rows\n",
    " - **emp_length**: Domain knowledge tells us that employment length is frequently used in assessing how risky a potential borrower is, so we'll keep this column despite its relatively large amount of missing values."
   ]
  },
  {
   "cell_type": "code",
   "execution_count": 11,
   "metadata": {},
   "outputs": [
    {
     "name": "stdout",
     "output_type": "stream",
     "text": [
      "object     11\n",
      "float64    10\n",
      "int64       1\n",
      "dtype: int64\n"
     ]
    }
   ],
   "source": [
    "#Drop column pub_rec_bankruptcies\n",
    "\n",
    "loans_2007 = loans_2007.drop('pub_rec_bankruptcies', axis=1)\n",
    "loans_2007 = loans_2007.dropna(axis=0)\n",
    "print(loans_2007.dtypes.value_counts())"
   ]
  },
  {
   "cell_type": "markdown",
   "metadata": {},
   "source": [
    "### Converting Object columns to numberics\n",
    "To run ML models the object columns that contain text need to be converted to numerical data types."
   ]
  },
  {
   "cell_type": "code",
   "execution_count": 12,
   "metadata": {},
   "outputs": [
    {
     "name": "stdout",
     "output_type": "stream",
     "text": [
      "term                     36 months\n",
      "int_rate                    10.65%\n",
      "emp_length               10+ years\n",
      "home_ownership                RENT\n",
      "verification_status       Verified\n",
      "purpose                credit_card\n",
      "title                     Computer\n",
      "addr_state                      AZ\n",
      "earliest_cr_line          Jan-1985\n",
      "revol_util                   83.7%\n",
      "last_credit_pull_d        Jun-2016\n",
      "Name: 0, dtype: object\n"
     ]
    }
   ],
   "source": [
    "#Select only the object columns into new df\n",
    "object_columns_df = loans_2007.select_dtypes(include=['object'])\n",
    "print(object_columns_df.iloc[0])"
   ]
  },
  {
   "cell_type": "markdown",
   "metadata": {},
   "source": [
    "**Date Value Columns**\n",
    " - **earliest_cr_line**: The month the borrower's earliest reported credit line was opened\n",
    " - **last_credit_pull_d**: The most recent month Lending Club pulled credit for this loan\n",
    "\n",
    "**Numberic Value Representing Columns**\n",
    " - **int_rate**: interest rate of the loan in %\n",
    " - **revol_util**: revolving line utilization rate or the amount of credit the borrower is using relative to all available credit, read more [here](http://blog.credit.com/2013/04/what-is-revolving-utilization-65530/)\n",
    " \n",
    "**Categorical Values Columns**\n",
    " - **home_ownership**: home ownership status, can only be 1 of 4 categorical values according to the data dictionary\n",
    " - **verification_status**: indicates if income was verified by Lending Club\n",
    " - **emp_length**: number of years the borrower was employed upon time of application\n",
    " - **term**: number of payments on the loan, either 36 or 60\n",
    " - **addr_state**: borrower's state of residence\n",
    " - **purpose**: a category provided by the borrower for the loan request\n",
    " - **title**: loan title provided by the borrower\n",
    " \n",
    " Let's explore the unique value counts of the columns that seem like they contain categorical values"
   ]
  },
  {
   "cell_type": "code",
   "execution_count": 17,
   "metadata": {},
   "outputs": [
    {
     "name": "stdout",
     "output_type": "stream",
     "text": [
      "RENT        18112\n",
      "MORTGAGE    16686\n",
      "OWN          2778\n",
      "OTHER          96\n",
      "NONE            3\n",
      "Name: home_ownership, dtype: int64\n",
      "----------------------------------------\n",
      "Not Verified       16281\n",
      "Verified           11856\n",
      "Source Verified     9538\n",
      "Name: verification_status, dtype: int64\n",
      "----------------------------------------\n",
      "10+ years    8545\n",
      "< 1 year     4513\n",
      "2 years      4303\n",
      "3 years      4022\n",
      "4 years      3353\n",
      "5 years      3202\n",
      "1 year       3176\n",
      "6 years      2177\n",
      "7 years      1714\n",
      "8 years      1442\n",
      "9 years      1228\n",
      "Name: emp_length, dtype: int64\n",
      "----------------------------------------\n",
      " 36 months    28234\n",
      " 60 months     9441\n",
      "Name: term, dtype: int64\n",
      "----------------------------------------\n",
      "CA    6776\n",
      "NY    3614\n",
      "FL    2704\n",
      "TX    2613\n",
      "NJ    1776\n",
      "IL    1447\n",
      "PA    1442\n",
      "VA    1347\n",
      "GA    1323\n",
      "MA    1272\n",
      "OH    1149\n",
      "MD    1008\n",
      "AZ     807\n",
      "WA     788\n",
      "CO     748\n",
      "NC     729\n",
      "CT     711\n",
      "MI     678\n",
      "MO     648\n",
      "MN     581\n",
      "NV     466\n",
      "SC     454\n",
      "WI     427\n",
      "OR     422\n",
      "LA     420\n",
      "AL     420\n",
      "KY     311\n",
      "OK     285\n",
      "KS     249\n",
      "UT     249\n",
      "AR     229\n",
      "DC     209\n",
      "RI     194\n",
      "NM     180\n",
      "WV     164\n",
      "HI     162\n",
      "NH     157\n",
      "DE     110\n",
      "MT      77\n",
      "WY      76\n",
      "AK      76\n",
      "SD      60\n",
      "VT      53\n",
      "MS      19\n",
      "TN      17\n",
      "IN       9\n",
      "ID       6\n",
      "IA       5\n",
      "NE       5\n",
      "ME       3\n",
      "Name: addr_state, dtype: int64\n",
      "----------------------------------------\n"
     ]
    }
   ],
   "source": [
    "cols = ['home_ownership', 'verification_status', 'emp_length', 'term', 'addr_state']\n",
    "\n",
    "for c in cols:\n",
    "    print(loans_2007[c].value_counts())\n",
    "    print('-'*40)"
   ]
  },
  {
   "cell_type": "markdown",
   "metadata": {},
   "source": [
    "We should clean the **emp_length** column and treat it as a numerical one since the values have ordering (2 years of employment is less than 8 years)\n",
    "\n",
    "Let's look at the unique value counts for the purpose and title columns to understand which column we want to keep."
   ]
  },
  {
   "cell_type": "code",
   "execution_count": 19,
   "metadata": {},
   "outputs": [
    {
     "name": "stdout",
     "output_type": "stream",
     "text": [
      "Debt Consolidation                     2068\n",
      "Debt Consolidation Loan                1599\n",
      "Personal Loan                           624\n",
      "Consolidation                           488\n",
      "debt consolidation                      466\n",
      "Credit Card Consolidation               345\n",
      "Home Improvement                        336\n",
      "Debt consolidation                      314\n",
      "Small Business Loan                     298\n",
      "Credit Card Loan                        294\n",
      "Personal                                290\n",
      "Consolidation Loan                      250\n",
      "Home Improvement Loan                   228\n",
      "personal loan                           219\n",
      "Loan                                    202\n",
      "Wedding Loan                            199\n",
      "personal                                198\n",
      "Car Loan                                188\n",
      "consolidation                           186\n",
      "Other Loan                              168\n",
      "Wedding                                 148\n",
      "Credit Card Payoff                      144\n",
      "Credit Card Refinance                   140\n",
      "Major Purchase Loan                     131\n",
      "Consolidate                             124\n",
      "Medical                                 111\n",
      "Credit Card                             110\n",
      "home improvement                        101\n",
      "Credit Cards                             91\n",
      "My Loan                                  90\n",
      "                                       ... \n",
      "Always On Time                            1\n",
      "medical bills loan                        1\n",
      "10k 60 Months Siedt                       1\n",
      "Grandad's Loan                            1\n",
      "credit card and tax pay off               1\n",
      "need to buy a home                        1\n",
      "Lendingclub25k                            1\n",
      "Gifts & Home Decor                        1\n",
      "this close to being debt free!!           1\n",
      "Personal loan for Suzuki                  1\n",
      "DebtConsolidationLoan                     1\n",
      "Beauty Salon                              1\n",
      "June 2010 Loan                            1\n",
      "Pay-off my 401k/Profit sharing Loan       1\n",
      "First child on the way!                   1\n",
      "Ev                                        1\n",
      "DL Debt Consolidation                     1\n",
      "Cherokee                                  1\n",
      "prosperity loan                           1\n",
      "Loan to remodel my kitchen                1\n",
      "katie's personal loan                     1\n",
      "TWA's loan                                1\n",
      "VA Home Loan Payment                      1\n",
      "Help me get ahead                         1\n",
      "mdel72                                    1\n",
      "Music Production Loan                     1\n",
      "Loan Needed for Home Improvement          1\n",
      "My First LendingClub Loan                 1\n",
      "Mission: Debt Free                        1\n",
      "Escape                                    1\n",
      "Name: title, Length: 18881, dtype: int64\n",
      "----------------------------------------\n",
      "debt_consolidation    17751\n",
      "credit_card            4911\n",
      "other                  3711\n",
      "home_improvement       2808\n",
      "major_purchase         2083\n",
      "small_business         1719\n",
      "car                    1459\n",
      "wedding                 916\n",
      "medical                 655\n",
      "moving                  552\n",
      "house                   356\n",
      "vacation                348\n",
      "educational             312\n",
      "renewable_energy         94\n",
      "Name: purpose, dtype: int64\n"
     ]
    }
   ],
   "source": [
    "print(loans_2007[\"title\"].value_counts())\n",
    "print('-'*40)\n",
    "print(loans_2007[\"purpose\"].value_counts())"
   ]
  },
  {
   "cell_type": "markdown",
   "metadata": {},
   "source": [
    "It seems like the **purpose** and **title** columns do contain overlapping information but we'll **keep** the **purpose** column since it contains a few discrete values.\n",
    "\n",
    "\n",
    "We can use the following mapping to clean the **emp_length** column:\n",
    "\n",
    " - \"10+ years\": 10\n",
    " - \"9 years\": 9\n",
    " - \"8 years\": 8\n",
    " - \"7 years\": 7\n",
    " - \"6 years\": 6\n",
    " - \"5 years\": 5\n",
    " - \"4 years\": 4\n",
    " - \"3 years\": 3\n",
    " - \"2 years\": 2\n",
    " - \"1 year\": 1\n",
    " - \"< 1 year\": 0\n",
    " - \"n/a\": 0\n",
    " \n",
    " With Assumptions that:\n",
    "  - people who may have been working more than 10 years have only really worked for 10 years\n",
    "  - people who've worked less than a year or if the information is not available that they've worked for 0\n",
    "  \n",
    "We'll also remove the **last_credit_pull_d, addr_state, title, and earliest_cr_line** columns from loans and\n",
    "\n",
    "Convert the **int_rate and revol_util** columns to float columns"
   ]
  },
  {
   "cell_type": "code",
   "execution_count": 22,
   "metadata": {},
   "outputs": [
    {
     "data": {
      "text/html": [
       "<div>\n",
       "<style scoped>\n",
       "    .dataframe tbody tr th:only-of-type {\n",
       "        vertical-align: middle;\n",
       "    }\n",
       "\n",
       "    .dataframe tbody tr th {\n",
       "        vertical-align: top;\n",
       "    }\n",
       "\n",
       "    .dataframe thead th {\n",
       "        text-align: right;\n",
       "    }\n",
       "</style>\n",
       "<table border=\"1\" class=\"dataframe\">\n",
       "  <thead>\n",
       "    <tr style=\"text-align: right;\">\n",
       "      <th></th>\n",
       "      <th>loan_amnt</th>\n",
       "      <th>term</th>\n",
       "      <th>int_rate</th>\n",
       "      <th>installment</th>\n",
       "      <th>emp_length</th>\n",
       "      <th>home_ownership</th>\n",
       "      <th>annual_inc</th>\n",
       "      <th>verification_status</th>\n",
       "      <th>loan_status</th>\n",
       "      <th>purpose</th>\n",
       "      <th>dti</th>\n",
       "      <th>delinq_2yrs</th>\n",
       "      <th>inq_last_6mths</th>\n",
       "      <th>open_acc</th>\n",
       "      <th>pub_rec</th>\n",
       "      <th>revol_bal</th>\n",
       "      <th>revol_util</th>\n",
       "      <th>total_acc</th>\n",
       "    </tr>\n",
       "  </thead>\n",
       "  <tbody>\n",
       "    <tr>\n",
       "      <th>0</th>\n",
       "      <td>5000.0</td>\n",
       "      <td>36 months</td>\n",
       "      <td>10.65</td>\n",
       "      <td>162.87</td>\n",
       "      <td>10</td>\n",
       "      <td>RENT</td>\n",
       "      <td>24000.0</td>\n",
       "      <td>Verified</td>\n",
       "      <td>1</td>\n",
       "      <td>credit_card</td>\n",
       "      <td>27.65</td>\n",
       "      <td>0.0</td>\n",
       "      <td>1.0</td>\n",
       "      <td>3.0</td>\n",
       "      <td>0.0</td>\n",
       "      <td>13648.0</td>\n",
       "      <td>83.7</td>\n",
       "      <td>9.0</td>\n",
       "    </tr>\n",
       "    <tr>\n",
       "      <th>1</th>\n",
       "      <td>2500.0</td>\n",
       "      <td>60 months</td>\n",
       "      <td>15.27</td>\n",
       "      <td>59.83</td>\n",
       "      <td>0</td>\n",
       "      <td>RENT</td>\n",
       "      <td>30000.0</td>\n",
       "      <td>Source Verified</td>\n",
       "      <td>0</td>\n",
       "      <td>car</td>\n",
       "      <td>1.00</td>\n",
       "      <td>0.0</td>\n",
       "      <td>5.0</td>\n",
       "      <td>3.0</td>\n",
       "      <td>0.0</td>\n",
       "      <td>1687.0</td>\n",
       "      <td>9.4</td>\n",
       "      <td>4.0</td>\n",
       "    </tr>\n",
       "  </tbody>\n",
       "</table>\n",
       "</div>"
      ],
      "text/plain": [
       "   loan_amnt        term  int_rate  installment emp_length home_ownership  \\\n",
       "0     5000.0   36 months     10.65       162.87         10           RENT   \n",
       "1     2500.0   60 months     15.27        59.83          0           RENT   \n",
       "\n",
       "   annual_inc verification_status  loan_status      purpose    dti  \\\n",
       "0     24000.0            Verified            1  credit_card  27.65   \n",
       "1     30000.0     Source Verified            0          car   1.00   \n",
       "\n",
       "   delinq_2yrs  inq_last_6mths  open_acc  pub_rec  revol_bal  revol_util  \\\n",
       "0          0.0             1.0       3.0      0.0    13648.0        83.7   \n",
       "1          0.0             5.0       3.0      0.0     1687.0         9.4   \n",
       "\n",
       "   total_acc  \n",
       "0        9.0  \n",
       "1        4.0  "
      ]
     },
     "execution_count": 22,
     "metadata": {},
     "output_type": "execute_result"
    }
   ],
   "source": [
    "#Remove unwanted columns\n",
    "loans = loans_2007.drop([\"last_credit_pull_d\", \"earliest_cr_line\", \"addr_state\", \"title\"], axis=1)\n",
    "\n",
    "#Convert rate and revol_util to float\n",
    "loans['int_rate'] = loans['int_rate'].str.rstrip('%').astype('float')\n",
    "loans['revol_util'] = loans['revol_util'].str.rstrip('%').astype('float')\n",
    "#Clean emp_length column\n",
    "\n",
    "mapping_dict = {\n",
    "    \"emp_length\": {\n",
    "        \"10+ years\": 10,\n",
    "        \"9 years\": 9,\n",
    "        \"8 years\": 8,\n",
    "        \"7 years\": 7,\n",
    "        \"6 years\": 6,\n",
    "        \"5 years\": 5,\n",
    "        \"4 years\": 4,\n",
    "        \"3 years\": 3,\n",
    "        \"2 years\": 2,\n",
    "        \"1 year\": 1,\n",
    "        \"< 1 year\": 0,\n",
    "        \"n/a\": 0\n",
    "    }\n",
    "}\n",
    "\n",
    "loans = loans.replace(mapping_dict)\n",
    "loans.head(2)"
   ]
  },
  {
   "cell_type": "markdown",
   "metadata": {},
   "source": [
    "### Dummy Variables\n",
    "Let's now encode the **home_ownership, verification_status, purpose, and term** columns as dummy variables so we can use them in our model"
   ]
  },
  {
   "cell_type": "code",
   "execution_count": 23,
   "metadata": {},
   "outputs": [
    {
     "data": {
      "text/html": [
       "<div>\n",
       "<style scoped>\n",
       "    .dataframe tbody tr th:only-of-type {\n",
       "        vertical-align: middle;\n",
       "    }\n",
       "\n",
       "    .dataframe tbody tr th {\n",
       "        vertical-align: top;\n",
       "    }\n",
       "\n",
       "    .dataframe thead th {\n",
       "        text-align: right;\n",
       "    }\n",
       "</style>\n",
       "<table border=\"1\" class=\"dataframe\">\n",
       "  <thead>\n",
       "    <tr style=\"text-align: right;\">\n",
       "      <th></th>\n",
       "      <th>loan_amnt</th>\n",
       "      <th>int_rate</th>\n",
       "      <th>installment</th>\n",
       "      <th>emp_length</th>\n",
       "      <th>annual_inc</th>\n",
       "      <th>loan_status</th>\n",
       "      <th>dti</th>\n",
       "      <th>delinq_2yrs</th>\n",
       "      <th>inq_last_6mths</th>\n",
       "      <th>open_acc</th>\n",
       "      <th>...</th>\n",
       "      <th>purpose_major_purchase</th>\n",
       "      <th>purpose_medical</th>\n",
       "      <th>purpose_moving</th>\n",
       "      <th>purpose_other</th>\n",
       "      <th>purpose_renewable_energy</th>\n",
       "      <th>purpose_small_business</th>\n",
       "      <th>purpose_vacation</th>\n",
       "      <th>purpose_wedding</th>\n",
       "      <th>term_ 36 months</th>\n",
       "      <th>term_ 60 months</th>\n",
       "    </tr>\n",
       "  </thead>\n",
       "  <tbody>\n",
       "    <tr>\n",
       "      <th>0</th>\n",
       "      <td>5000.0</td>\n",
       "      <td>10.65</td>\n",
       "      <td>162.87</td>\n",
       "      <td>10</td>\n",
       "      <td>24000.0</td>\n",
       "      <td>1</td>\n",
       "      <td>27.65</td>\n",
       "      <td>0.0</td>\n",
       "      <td>1.0</td>\n",
       "      <td>3.0</td>\n",
       "      <td>...</td>\n",
       "      <td>0</td>\n",
       "      <td>0</td>\n",
       "      <td>0</td>\n",
       "      <td>0</td>\n",
       "      <td>0</td>\n",
       "      <td>0</td>\n",
       "      <td>0</td>\n",
       "      <td>0</td>\n",
       "      <td>1</td>\n",
       "      <td>0</td>\n",
       "    </tr>\n",
       "    <tr>\n",
       "      <th>1</th>\n",
       "      <td>2500.0</td>\n",
       "      <td>15.27</td>\n",
       "      <td>59.83</td>\n",
       "      <td>0</td>\n",
       "      <td>30000.0</td>\n",
       "      <td>0</td>\n",
       "      <td>1.00</td>\n",
       "      <td>0.0</td>\n",
       "      <td>5.0</td>\n",
       "      <td>3.0</td>\n",
       "      <td>...</td>\n",
       "      <td>0</td>\n",
       "      <td>0</td>\n",
       "      <td>0</td>\n",
       "      <td>0</td>\n",
       "      <td>0</td>\n",
       "      <td>0</td>\n",
       "      <td>0</td>\n",
       "      <td>0</td>\n",
       "      <td>0</td>\n",
       "      <td>1</td>\n",
       "    </tr>\n",
       "  </tbody>\n",
       "</table>\n",
       "<p>2 rows × 38 columns</p>\n",
       "</div>"
      ],
      "text/plain": [
       "   loan_amnt  int_rate  installment emp_length  annual_inc  loan_status  \\\n",
       "0     5000.0     10.65       162.87         10     24000.0            1   \n",
       "1     2500.0     15.27        59.83          0     30000.0            0   \n",
       "\n",
       "     dti  delinq_2yrs  inq_last_6mths  open_acc  ...  purpose_major_purchase  \\\n",
       "0  27.65          0.0             1.0       3.0  ...                       0   \n",
       "1   1.00          0.0             5.0       3.0  ...                       0   \n",
       "\n",
       "   purpose_medical  purpose_moving  purpose_other  purpose_renewable_energy  \\\n",
       "0                0               0              0                         0   \n",
       "1                0               0              0                         0   \n",
       "\n",
       "   purpose_small_business  purpose_vacation  purpose_wedding  term_ 36 months  \\\n",
       "0                       0                 0                0                1   \n",
       "1                       0                 0                0                0   \n",
       "\n",
       "   term_ 60 months  \n",
       "0                0  \n",
       "1                1  \n",
       "\n",
       "[2 rows x 38 columns]"
      ]
     },
     "execution_count": 23,
     "metadata": {},
     "output_type": "execute_result"
    }
   ],
   "source": [
    "cat_columns = [\"home_ownership\", \"verification_status\", \"purpose\", \"term\"]\n",
    "\n",
    "#Return Dataframe containing 1 column for each dummy variable\n",
    "dummy_df = pd.get_dummies(loans[cat_columns])\n",
    "\n",
    "#use the concat method to add these dummy columns back to the original Dataframe\n",
    "loans = pd.concat([loans, dummy_df], axis=1)\n",
    "\n",
    "#drop the original columns entirely using the drop method\n",
    "loans = loans.drop(cat_columns, axis=1)\n",
    "\n",
    "loans.head(2)\n"
   ]
  },
  {
   "cell_type": "markdown",
   "metadata": {},
   "source": [
    "We have completed the necessary data preprations required to train the ML models."
   ]
  },
  {
   "cell_type": "code",
   "execution_count": 24,
   "metadata": {},
   "outputs": [
    {
     "name": "stdout",
     "output_type": "stream",
     "text": [
      "<class 'pandas.core.frame.DataFrame'>\n",
      "Int64Index: 37675 entries, 0 to 39785\n",
      "Data columns (total 38 columns):\n",
      "loan_amnt                              37675 non-null float64\n",
      "int_rate                               37675 non-null float64\n",
      "installment                            37675 non-null float64\n",
      "emp_length                             37675 non-null object\n",
      "annual_inc                             37675 non-null float64\n",
      "loan_status                            37675 non-null int64\n",
      "dti                                    37675 non-null float64\n",
      "delinq_2yrs                            37675 non-null float64\n",
      "inq_last_6mths                         37675 non-null float64\n",
      "open_acc                               37675 non-null float64\n",
      "pub_rec                                37675 non-null float64\n",
      "revol_bal                              37675 non-null float64\n",
      "revol_util                             37675 non-null float64\n",
      "total_acc                              37675 non-null float64\n",
      "home_ownership_MORTGAGE                37675 non-null uint8\n",
      "home_ownership_NONE                    37675 non-null uint8\n",
      "home_ownership_OTHER                   37675 non-null uint8\n",
      "home_ownership_OWN                     37675 non-null uint8\n",
      "home_ownership_RENT                    37675 non-null uint8\n",
      "verification_status_Not Verified       37675 non-null uint8\n",
      "verification_status_Source Verified    37675 non-null uint8\n",
      "verification_status_Verified           37675 non-null uint8\n",
      "purpose_car                            37675 non-null uint8\n",
      "purpose_credit_card                    37675 non-null uint8\n",
      "purpose_debt_consolidation             37675 non-null uint8\n",
      "purpose_educational                    37675 non-null uint8\n",
      "purpose_home_improvement               37675 non-null uint8\n",
      "purpose_house                          37675 non-null uint8\n",
      "purpose_major_purchase                 37675 non-null uint8\n",
      "purpose_medical                        37675 non-null uint8\n",
      "purpose_moving                         37675 non-null uint8\n",
      "purpose_other                          37675 non-null uint8\n",
      "purpose_renewable_energy               37675 non-null uint8\n",
      "purpose_small_business                 37675 non-null uint8\n",
      "purpose_vacation                       37675 non-null uint8\n",
      "purpose_wedding                        37675 non-null uint8\n",
      "term_ 36 months                        37675 non-null uint8\n",
      "term_ 60 months                        37675 non-null uint8\n",
      "dtypes: float64(12), int64(1), object(1), uint8(24)\n",
      "memory usage: 5.2+ MB\n",
      "None\n"
     ]
    }
   ],
   "source": [
    "print(loans.info())"
   ]
  },
  {
   "cell_type": "markdown",
   "metadata": {},
   "source": [
    "# Defining our Error Metric\n",
    "\n",
    "**Our objective**- Fund enough loans that are paid off on time to offset our losses from loans that aren't paid off.\n",
    "\n",
    "We're primarily concerned with false positives and false negatives:\n",
    " - **False Positives**- We predict that a loan will be paid off on time, but it actually isn't\n",
    " - **False Negative** - we predict that a loan won't be paid off on time, but it actually would be paid off on time\n",
    " \n",
    "we should optimize for:\n",
    "\n",
    " - high [recall](https://en.wikipedia.org/wiki/Precision_and_recall#Recall) (true positive rate)\n",
    "   \n",
    " - low [fall-out](https://en.wikipedia.org/wiki/Information_retrieval#Fall-out) (false positive rate)"
   ]
  },
  {
   "cell_type": "markdown",
   "metadata": {},
   "source": [
    "# Applying Logistic Regression\n",
    "\n",
    "We'll use K-Fold Cross validation to check out model accuracy\n",
    "\n",
    "Also to deal with Class Impbalance we will penalize misclassifications of the less prevalent class(loan_status=0) more than the other class (loan_status=1)\n",
    "\n",
    "We can do this by setting the **class_weight** parameter to penalty when creating the LogisticRegression instance"
   ]
  },
  {
   "cell_type": "code",
   "execution_count": 39,
   "metadata": {},
   "outputs": [
    {
     "name": "stdout",
     "output_type": "stream",
     "text": [
      "True Positive Rate: 0.2305977975878343\n",
      "False Positive Rate: 0.22724580454096743\n"
     ]
    }
   ],
   "source": [
    "from sklearn.linear_model import LogisticRegression\n",
    "from sklearn.model_selection import cross_val_predict\n",
    "\n",
    "#Set Class weight to 10 to deal with Class Imbalance and penalize False Positives more\n",
    "penalty = {\n",
    "    0:10,\n",
    "    1:1\n",
    "}\n",
    "lr = LogisticRegression(class_weight=penalty)\n",
    "cols = loans.columns\n",
    "train_cols = cols.drop('loan_status')\n",
    "features = loans[train_cols]\n",
    "target = loans['loan_status']\n",
    "\n",
    "# Make predictions using 3-fold cross-validation.\n",
    "predictions = cross_val_predict(lr, features, target, cv=3)\n",
    "predictions = pd.Series(predictions)\n",
    "\n",
    "# False positives.\n",
    "fp_filter = (predictions == 1) & (loans[\"loan_status\"] == 0)\n",
    "fp = len(predictions[fp_filter])\n",
    "\n",
    "# True positives.\n",
    "tp_filter = (predictions == 1) & (loans[\"loan_status\"] == 1)\n",
    "tp = len(predictions[tp_filter])\n",
    "\n",
    "# False negatives.\n",
    "fn_filter = (predictions == 0) & (loans[\"loan_status\"] == 1)\n",
    "fn = len(predictions[fn_filter])\n",
    "\n",
    "# True negatives\n",
    "tn_filter = (predictions == 0) & (loans[\"loan_status\"] == 0)\n",
    "tn = len(predictions[tn_filter])\n",
    "# Rates\n",
    "tpr = tp  / (tp + fn)\n",
    "fpr = fp  / (fp + tn)\n",
    "print('True Positive Rate:', tpr)\n",
    "print('False Positive Rate:', fpr)\n"
   ]
  },
  {
   "cell_type": "markdown",
   "metadata": {},
   "source": [
    "It looks like assigning manual penalties lowered the false positive rate to 22%, and thus lowered our risk.\n",
    "\n",
    "Note that this comes at the expense of true positive rate."
   ]
  },
  {
   "cell_type": "markdown",
   "metadata": {},
   "source": [
    "# Applying Random Forest"
   ]
  },
  {
   "cell_type": "code",
   "execution_count": 42,
   "metadata": {},
   "outputs": [
    {
     "name": "stdout",
     "output_type": "stream",
     "text": [
      "True Positive Rate: 0.9630637126376508\n",
      "False Positive Rate: 0.9636722606120435\n"
     ]
    }
   ],
   "source": [
    "from sklearn.ensemble import RandomForestClassifier\n",
    "\n",
    "rf = RandomForestClassifier(class_weight=\"balanced\", random_state=1)\n",
    "\n",
    "# Make predictions using 3-fold cross-validation.\n",
    "predictions = cross_val_predict(rf, features, target, cv=3)\n",
    "predictions = pd.Series(predictions)\n",
    "\n",
    "# False positives.\n",
    "fp_filter = (predictions == 1) & (loans[\"loan_status\"] == 0)\n",
    "fp = len(predictions[fp_filter])\n",
    "\n",
    "# True positives.\n",
    "tp_filter = (predictions == 1) & (loans[\"loan_status\"] == 1)\n",
    "tp = len(predictions[tp_filter])\n",
    "\n",
    "# False negatives.\n",
    "fn_filter = (predictions == 0) & (loans[\"loan_status\"] == 1)\n",
    "fn = len(predictions[fn_filter])\n",
    "\n",
    "# True negatives\n",
    "tn_filter = (predictions == 0) & (loans[\"loan_status\"] == 0)\n",
    "tn = len(predictions[tn_filter])\n",
    "# Rates\n",
    "tpr = tp  / (tp + fn)\n",
    "fpr = fp  / (fp + tn)\n",
    "print('True Positive Rate:', tpr)\n",
    "print('False Positive Rate:', fpr)"
   ]
  },
  {
   "cell_type": "markdown",
   "metadata": {},
   "source": [
    "Unfortunately, using a random forest classifier didn't improve our false positive rate. The model is likely weighting too heavily on the 1 class, and still mostly predicting 1s. We could fix this by applying a harsher penalty for misclassifications of 0s"
   ]
  },
  {
   "cell_type": "code",
   "execution_count": null,
   "metadata": {},
   "outputs": [],
   "source": []
  }
 ],
 "metadata": {
  "kernelspec": {
   "display_name": "Python 3",
   "language": "python",
   "name": "python3"
  },
  "language_info": {
   "codemirror_mode": {
    "name": "ipython",
    "version": 3
   },
   "file_extension": ".py",
   "mimetype": "text/x-python",
   "name": "python",
   "nbconvert_exporter": "python",
   "pygments_lexer": "ipython3",
   "version": "3.7.3"
  }
 },
 "nbformat": 4,
 "nbformat_minor": 2
}
